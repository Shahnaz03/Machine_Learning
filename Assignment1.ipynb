{
  "nbformat": 4,
  "nbformat_minor": 0,
  "metadata": {
    "colab": {
      "provenance": [],
      "authorship_tag": "ABX9TyN/6lCprFYs1E9YdxLdUmeH",
      "include_colab_link": true
    },
    "kernelspec": {
      "name": "python3",
      "display_name": "Python 3"
    },
    "language_info": {
      "name": "python"
    }
  },
  "cells": [
    {
      "cell_type": "markdown",
      "metadata": {
        "id": "view-in-github",
        "colab_type": "text"
      },
      "source": [
        "<a href=\"https://colab.research.google.com/github/Shahnaz03/Machine_Learning/blob/main/Assignment1.ipynb\" target=\"_parent\"><img src=\"https://colab.research.google.com/assets/colab-badge.svg\" alt=\"Open In Colab\"/></a>"
      ]
    },
    {
      "cell_type": "code",
      "execution_count": null,
      "metadata": {
        "id": "Cfh7V0ux6f0f"
      },
      "outputs": [],
      "source": [
        "# Import necessary libraries\n",
        "import tensorflow as tf  # TensorFlow is an open-source library for deep learning\n",
        "from tensorflow.keras.datasets import mnist  # Load the MNIST handwritten digits dataset\n",
        "from tensorflow.keras.models import Sequential  # Sequential model allows stacking layers one by one\n",
        "from tensorflow.keras.layers import Dense, Flatten  # Dense = fully connected layer, Flatten = convert 2D to 1D\n",
        "from tensorflow.keras.utils import to_categorical  # Converts class labels (numbers) into one-hot encoded format\n",
        "\n",
        "# Load the MNIST dataset (images and labels)\n",
        "(x_train, y_train), (x_test, y_test) = mnist.load_data()  # Splits into training and testing data\n",
        "\n",
        "# Normalize the image pixel values from range [0,255] to [0,1]\n",
        "x_train, x_test = x_train / 255.0, x_test / 255.0  # Helps the model train faster and better\n",
        "\n",
        "# Convert labels into one-hot encoded format\n",
        "y_train_cat = to_categorical(y_train)  # Example: label 5 becomes [0,0,0,0,0,1,0,0,0,0]\n",
        "y_test_cat = to_categorical(y_test)    # Same transformation for test labels\n",
        "\n",
        "# Create a Sequential model\n",
        "model = Sequential([\n",
        "    Flatten(input_shape=(28, 28)),     # Convert 28x28 images into a 1D vector of size 784\n",
        "    Dense(128, activation='relu'),     # Hidden layer with 128 neurons, ReLU activation\n",
        "    Dense(10, activation='softmax')    # Output layer with 10 neurons (digits 0–9), softmax for probability output\n",
        "])\n",
        "\n",
        "# Compile the model (set optimizer, loss function, and evaluation metric)\n",
        "model.compile(\n",
        "    optimizer='adam',                  # Adam optimizer for adjusting learning rate\n",
        "    loss='categorical_crossentropy',   # Loss function for multi-class classification\n",
        "    metrics=['accuracy']               # Track accuracy during training/testing\n",
        ")\n",
        "\n",
        "# Train the model using the training data\n",
        "model.fit(x_train, y_train_cat, epochs=5)  # Train for 5 passes (epochs) over the training set\n",
        "\n",
        "# Evaluate the trained model on test data\n",
        "loss, accuracy = model.evaluate(x_test, y_test_cat)  # Returns loss and accuracy on unseen data\n",
        "\n",
        "# Print the test accuracy\n",
        "print(f\"Test accuracy: {accuracy}\")  # Displays how well the model performs on test data"
      ]
    },
    {
      "cell_type": "markdown",
      "source": [
        "\"This code loads and normalize the MNIST dataset\""
      ],
      "metadata": {
        "id": "dZ0Coel87Ao4"
      }
    },
    {
      "cell_type": "code",
      "source": [],
      "metadata": {
        "id": "xw9jkYlb64eh"
      },
      "execution_count": null,
      "outputs": []
    }
  ]
}